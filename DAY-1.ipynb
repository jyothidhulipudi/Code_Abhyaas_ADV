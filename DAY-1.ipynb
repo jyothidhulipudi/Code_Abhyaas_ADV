{
 "cells": [
  {
   "cell_type": "markdown",
   "id": "d19fe962",
   "metadata": {},
   "source": [
    "# for printing the count using hashing\n",
    "printing minimum no.of times repeated and maximum  no.of times repeated "
   ]
  },
  {
   "cell_type": "code",
   "execution_count": null,
   "id": "bad51912",
   "metadata": {},
   "outputs": [],
   "source": [
    "a=[1,2,2,3,1,3,4,2,4,10]\n",
    "a=list(map(int,input().split()))\n",
    "p={}\n",
    "n=len(a)\n",
    "maxi=1\n",
    "mini=max(a)\n",
    "def maxx(k,j):\n",
    "    if(k>j):\n",
    "        return k\n",
    "    return j\n",
    "def minn(k,j):\n",
    "    if(k<j):\n",
    "        return k\n",
    "    return j   \n",
    "\n",
    "for i in a:\n",
    "    c=0\n",
    "    if i in p:\n",
    "        p[i]=p[i]+1\n",
    "    if i not in p:\n",
    "        p[i]=c+1\n",
    "    maxi=maxx(maxi,p[i])\n",
    "    mini=minn(mini,p[i])\n",
    "    \n",
    "print(\"count of each numbers:\",p)\n",
    "print(\"maximum times repaeted:\",maxi)\n",
    "print(\"minimum times repeated:\",mini)"
   ]
  },
  {
   "cell_type": "code",
   "execution_count": null,
   "id": "3f4ddc8a",
   "metadata": {},
   "outputs": [],
   "source": []
  }
 ],
 "metadata": {
  "kernelspec": {
   "display_name": "Python 3 (ipykernel)",
   "language": "python",
   "name": "python3"
  }
 },
 "nbformat": 4,
 "nbformat_minor": 5
}
